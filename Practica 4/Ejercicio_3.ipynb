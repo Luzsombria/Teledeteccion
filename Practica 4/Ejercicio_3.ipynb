{
 "cells": [
  {
   "cell_type": "markdown",
   "metadata": {},
   "source": [
    "# Ejercicio 3\n",
    "\n",
    "En este ejercicio se aplicará una mascara de interés a una imagen."
   ]
  },
  {
   "cell_type": "code",
   "execution_count": 1,
   "metadata": {},
   "outputs": [],
   "source": [
    "import cv2 as cv\n",
    "import numpy as np\n",
    "import matplotlib.pyplot as plt"
   ]
  },
  {
   "cell_type": "code",
   "execution_count": 2,
   "metadata": {},
   "outputs": [],
   "source": [
    "def mascara(img, mask):\n",
    "    return img*mask"
   ]
  },
  {
   "cell_type": "code",
   "execution_count": 3,
   "metadata": {},
   "outputs": [
    {
     "name": "stdout",
     "output_type": "stream",
     "text": [
      "[[1 0 1 3]\n",
      " [2 0 1 1]\n",
      " [3 0 1 0]\n",
      " [1 0 1 0]]\n"
     ]
    }
   ],
   "source": [
    "ejemplo = np.array([\n",
    "    [1,1,1,3],\n",
    "    [2,1,1,1],\n",
    "    [3,2,1,1],\n",
    "    [1,1,1,2]\n",
    "])\n",
    "mask = np.array([\n",
    "    [1,0,1,1],\n",
    "    [1,0,1,1],\n",
    "    [1,0,1,0],\n",
    "    [1,0,1,0]\n",
    "])\n",
    "\n",
    "print(mascara(ejemplo, mask))"
   ]
  }
 ],
 "metadata": {
  "kernelspec": {
   "display_name": "Python 3",
   "language": "python",
   "name": "python3"
  },
  "language_info": {
   "codemirror_mode": {
    "name": "ipython",
    "version": 3
   },
   "file_extension": ".py",
   "mimetype": "text/x-python",
   "name": "python",
   "nbconvert_exporter": "python",
   "pygments_lexer": "ipython3",
   "version": "3.8.3"
  }
 },
 "nbformat": 4,
 "nbformat_minor": 4
}
