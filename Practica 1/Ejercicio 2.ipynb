{
 "cells": [
  {
   "cell_type": "code",
   "execution_count": 2,
   "metadata": {},
   "outputs": [],
   "source": [
    "def facto1(N):\n",
    "    f = 1\n",
    "    i = 1\n",
    "    while i <= N:\n",
    "        f *= i\n",
    "        i += 1\n",
    "    return f"
   ]
  },
  {
   "cell_type": "code",
   "execution_count": 3,
   "metadata": {},
   "outputs": [],
   "source": [
    "def facto2(N):\n",
    "    if N == 1:\n",
    "        return N\n",
    "    else:\n",
    "        return N*facto2(N-1)"
   ]
  },
  {
   "cell_type": "code",
   "execution_count": 4,
   "metadata": {},
   "outputs": [
    {
     "name": "stdout",
     "output_type": "stream",
     "text": [
      "1 1\n",
      "2 2\n",
      "6 6\n",
      "24 24\n",
      "120 120\n",
      "720 720\n"
     ]
    }
   ],
   "source": [
    "import numpy as np\n",
    "x = np.arange(1,7,1)\n",
    "\n",
    "for n in x:\n",
    "    print(facto1(n), facto2(n))"
   ]
  }
 ],
 "metadata": {
  "kernelspec": {
   "display_name": "Python 3",
   "language": "python",
   "name": "python3"
  },
  "language_info": {
   "codemirror_mode": {
    "name": "ipython",
    "version": 3
   },
   "file_extension": ".py",
   "mimetype": "text/x-python",
   "name": "python",
   "nbconvert_exporter": "python",
   "pygments_lexer": "ipython3",
   "version": "3.8.3"
  }
 },
 "nbformat": 4,
 "nbformat_minor": 4
}
