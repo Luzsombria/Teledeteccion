{
 "cells": [
  {
   "cell_type": "code",
   "execution_count": 1,
   "metadata": {},
   "outputs": [],
   "source": [
    "import cv2 as cv\n",
    "import numpy as np\n",
    "import matplotlib.pyplot as plt\n",
    "import random"
   ]
  },
  {
   "cell_type": "markdown",
   "metadata": {},
   "source": [
    "# Ejercicio 2\n",
    "\n",
    "En este ejercicio realizaremos una modificación a la función isodata para calcular los centroides de forma aleatoria en función de cuantas clases se le aporten al metodo.\n",
    "Esta nueva versión se valdrá de una nueva función auxiliar para calcular los centroides base."
   ]
  },
  {
   "cell_type": "code",
   "execution_count": 2,
   "metadata": {},
   "outputs": [],
   "source": [
    "# Función isodata\n",
    "def isodata(img, C):\n",
    "    \n",
    "    v = np.zeros( (C, img.shape[2]) )\n",
    "    \n",
    "    v = comienzo(v)\n",
    "       \n",
    "    resimg = np.ones( (img.shape[0], img.shape[1]), dtype = int)\n",
    "    \n",
    "    res = True\n",
    "    n = 0\n",
    "    while res:\n",
    "        \n",
    "        resimg, lc = clasificacion(img,v,resimg)\n",
    "        \n",
    "        vp = v.copy()\n",
    "        \n",
    "        for i in range(len(lc)):\n",
    "            if len(lc[i]) > 0:\n",
    "                v[i] = reasignacion(lc[i])\n",
    "                \n",
    "        mod = True\n",
    "        for j in range(v.shape[0]):\n",
    "            for k in range(v.shape[1]):\n",
    "                mod = mod and (vp[j][k] - v[j][k]) == 0\n",
    "        \n",
    "        if mod:\n",
    "            res = False\n",
    "            \n",
    "        n += 1\n",
    "    \n",
    "    return resimg,n\n",
    "\n",
    "# Función para generar los casos base de los centroides\n",
    "\n",
    "def comienzo(v):\n",
    "    \n",
    "    for i in range(v.shape[0]):\n",
    "        v[i,:] = (random.randint(0,255),\n",
    "                  random.randint(0,255),\n",
    "                  random.randint(0,255))\n",
    "    \n",
    "    return v\n",
    "\n",
    "# Función para clasificar cada pixel\n",
    "\n",
    "def clasificacion(img,centros,resimg):\n",
    "    \n",
    "    lc = list()\n",
    "    for z in range(centros.shape[0]):\n",
    "        lc.append(list())\n",
    "    \n",
    "    for i in range(img.shape[0]):\n",
    "        for j in range(img.shape[1]):\n",
    "            if img[i,j][0] == 0 and img[i,j][1] == 0 and img[i,j][2] == 0:\n",
    "                resimg[i,j] = 0\n",
    "            else:\n",
    "                dist = list()\n",
    "                for v in centros:\n",
    "                    d = np.sqrt((np.power((img[i][j][0]-v[0]),2))\n",
    "                                 +(np.power((img[i][j][1]-v[1]),2))\n",
    "                                 +(np.power((img[i][j][2]-v[2]),2)))\n",
    "                    dist.append(d)\n",
    "\n",
    "                c = dist.index(min(dist))\n",
    "                \n",
    "                lc[c].append((img[i,j][0],img[i,j][1],img[i,j][2]))\n",
    "                resimg[i,j] = c+1\n",
    "                \n",
    "    return resimg, lc\n",
    "\n",
    "\n",
    "# Función para reasignar valores a los centros de clasificación\n",
    "def reasignacion(c):\n",
    "    \n",
    "    medC1 = 0\n",
    "    medC2 = 0\n",
    "    medC3 = 0\n",
    "    \n",
    "    for t in c:\n",
    "        medC1 += t[0]\n",
    "        medC2 += t[1]\n",
    "        medC3 += t[2]\n",
    "        \n",
    "    medC = (medC1/len(c),medC2/len(c),medC3/len(c))\n",
    "    \n",
    "    return medC"
   ]
  },
  {
   "cell_type": "code",
   "execution_count": 3,
   "metadata": {},
   "outputs": [
    {
     "data": {
      "image/png": "[encoded data removed]",
      "text/plain": [
       "<Figure size 432x288 with 1 Axes>"
      ]
     },
     "metadata": {
      "needs_background": "light"
     },
     "output_type": "display_data"
    }
   ],
   "source": [
    "# Generador de degradado\n",
    "tam = 100\n",
    "\n",
    "b1 = np.zeros([tam,tam,1],dtype=np.uint8)\n",
    "b2 = np.zeros([tam,tam,1],dtype=np.uint8)\n",
    "b3 = np.zeros([tam,tam,1],dtype=np.uint8)\n",
    "\n",
    "for i in range(b1.shape[0]):\n",
    "    for j in range(b1.shape[0]):\n",
    "        b1[i,j] = j*2+i*0.5\n",
    "        b2[i,j] = j*0.5+i*2\n",
    "        b3[i,j] = j*1.5+i*1\n",
    "    \n",
    "img = cv.merge((b1,b2,b3))\n",
    "cv.imwrite(\"imagenes/degradado100.png\",img)\n",
    "\n",
    "plt.figure(1)\n",
    "plt.imshow(img)\n",
    "plt.show()"
   ]
  },
  {
   "cell_type": "code",
   "execution_count": 4,
   "metadata": {},
   "outputs": [
    {
     "name": "stdout",
     "output_type": "stream",
     "text": [
      "Iteraciones hasta que los centroides se estabilizan: 40 \n",
      "\n",
      " [[0 6 6 ... 5 5 5]\n",
      " [6 6 6 ... 5 5 5]\n",
      " [6 6 6 ... 5 5 5]\n",
      " ...\n",
      " [1 1 1 ... 3 3 3]\n",
      " [1 1 1 ... 3 3 3]\n",
      " [1 1 1 ... 3 3 3]]\n"
     ]
    }
   ],
   "source": [
    "res,n = isodata(img,6)\n",
    "print(\"Iteraciones hasta que los centroides se estabilizan:\",n,\"\\n\\n\",res)"
   ]
  },
  {
   "cell_type": "code",
   "execution_count": 5,
   "metadata": {},
   "outputs": [],
   "source": [
    "# Colorea con un seudocolor el resultado de la clasificación.\n",
    "# Función seudo\n",
    "def seudo(img):\n",
    "    \n",
    "    resimg = np.zeros((img.shape[0],img.shape[1],3),np.uint8)\n",
    "    \n",
    "    for i in range(img.shape[0]):\n",
    "        for j in range(img.shape[1]):\n",
    "            if img[i,j] == 0:\n",
    "                resimg[i,j,:] = [255,0,0]\n",
    "            elif img[i,j] == 1:\n",
    "                resimg[i,j,:] = [0,255,0]\n",
    "            elif img[i,j] == 2:\n",
    "                resimg[i,j,:] = [0,0,255]\n",
    "            elif img[i,j] == 3:\n",
    "                resimg[i,j,:] = [255,255,0]\n",
    "            elif img[i,j] == 4:\n",
    "                resimg[i,j,:] = [0,255,255]\n",
    "            elif img[i,j] == 5:\n",
    "                resimg[i,j,:] = [255,0,255]\n",
    "            else:\n",
    "                resimg[i,j,:] = [0,0,0]\n",
    "                \n",
    "    return resimg"
   ]
  },
  {
   "cell_type": "code",
   "execution_count": 6,
   "metadata": {},
   "outputs": [
    {
     "data": {
      "image/png": "[encoded data removed]",
      "text/plain": [
       "<Figure size 432x288 with 1 Axes>"
      ]
     },
     "metadata": {
      "needs_background": "light"
     },
     "output_type": "display_data"
    }
   ],
   "source": [
    "res_seudo = seudo(res)\n",
    "cv.imwrite(\"soluciones/Ej2 - Isodata.png\",\n",
    "           cv.cvtColor(res_seudo, cv.COLOR_BGR2RGB))\n",
    "plt.figure(2)\n",
    "plt.imshow(res_seudo)\n",
    "plt.show()"
   ]
  }
 ],
 "metadata": {
  "kernelspec": {
   "display_name": "Python 3",
   "language": "python",
   "name": "python3"
  },
  "language_info": {
   "codemirror_mode": {
    "name": "ipython",
    "version": 3
   },
   "file_extension": ".py",
   "mimetype": "text/x-python",
   "name": "python",
   "nbconvert_exporter": "python",
   "pygments_lexer": "ipython3",
   "version": "3.8.3"
  }
 },
 "nbformat": 4,
 "nbformat_minor": 4
}
