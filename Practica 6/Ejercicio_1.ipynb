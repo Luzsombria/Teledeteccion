{
 "cells": [
  {
   "cell_type": "code",
   "execution_count": 1,
   "metadata": {},
   "outputs": [],
   "source": [
    "import cv2 as cv\n",
    "import numpy as np\n",
    "import matplotlib.pyplot as plt"
   ]
  },
  {
   "cell_type": "markdown",
   "metadata": {},
   "source": [
    "# Ejercicio 1\n",
    "\n",
    "En este ejercicio se define la función isodata, que agrupa pixeles según su similitud de intensidad.\n",
    "Para esta función se requieren dos funciones auxiliares, una de clasificación que asigna la clasificación en cada iteración, y otra de reasignación que da nuevos valores a los centros de clasificación."
   ]
  },
  {
   "cell_type": "code",
   "execution_count": 2,
   "metadata": {},
   "outputs": [],
   "source": [
    "# Función isodata\n",
    "def isodata(img, C):\n",
    "    \n",
    "    v = np.zeros( (C, img.shape[2]) )\n",
    "    \n",
    "    # Calcular los centros aleatorios para las clases (C).\n",
    "    # En una primera iteración fijaremos estos valores para poder depurar nuestra\n",
    "    # función con los valores que esperamos.\n",
    "    \n",
    "    v[0,:] = (  30.,  60., 30. )\n",
    "    v[1,:] = (  60.,  70., 30. )\n",
    "    v[2,:] = (  20.,  40., 20. )\n",
    "    v[3,:] = ( 100., 150., 40. )\n",
    "    \n",
    "    # Crear resimg (Imagen resultado).\n",
    "    \n",
    "    resimg = np.ones( (img.shape[0], img.shape[1]), dtype = int)\n",
    "    \n",
    "    res = True\n",
    "    n = 0\n",
    "    while res:\n",
    "        \n",
    "        resimg, lc = clasificacion(img,v,resimg)\n",
    "        \n",
    "        vp = v.copy()\n",
    "        \n",
    "        for i in range(len(lc)):\n",
    "            if len(lc[i]) > 0:\n",
    "                v[i] = reasignacion(lc[i])\n",
    "                \n",
    "        mod = True\n",
    "        for j in range(v.shape[0]):\n",
    "            for k in range(v.shape[1]):\n",
    "                mod = mod and (vp[j][k] - v[j][k]) == 0\n",
    "        \n",
    "        if mod:\n",
    "            res = False\n",
    "            \n",
    "        n += 1\n",
    "    \n",
    "    return resimg,n\n",
    "\n",
    "# Función para clasificar cada pixel\n",
    "\n",
    "def clasificacion(img,centros,resimg):\n",
    "    \n",
    "    lc = list()\n",
    "    for z in range(centros.shape[0]):\n",
    "        lc.append(list())\n",
    "    \n",
    "    for i in range(img.shape[0]):\n",
    "        for j in range(img.shape[1]):\n",
    "            if img[i,j][0] == 0 and img[i,j][1] == 0 and img[i,j][2] == 0:\n",
    "                resimg[i,j] = 0\n",
    "            else:\n",
    "                dist = list()\n",
    "                for v in centros:\n",
    "                    d = np.sqrt((np.power((img[i][j][0]-v[0]),2))\n",
    "                                 +(np.power((img[i][j][1]-v[1]),2))\n",
    "                                 +(np.power((img[i][j][2]-v[2]),2)))\n",
    "                    dist.append(d)\n",
    "\n",
    "                c = dist.index(min(dist))\n",
    "                \n",
    "                lc[c].append((img[i,j][0],img[i,j][1],img[i,j][2]))\n",
    "                resimg[i,j] = c+1\n",
    "                \n",
    "    return resimg, lc\n",
    "\n",
    "\n",
    "# Función para reasignar valores a los centros de clasificación\n",
    "def reasignacion(c):\n",
    "    \n",
    "    medC1 = 0\n",
    "    medC2 = 0\n",
    "    medC3 = 0\n",
    "    \n",
    "    for t in c:\n",
    "        medC1 += t[0]\n",
    "        medC2 += t[1]\n",
    "        medC3 += t[2]\n",
    "        \n",
    "    medC = (medC1/len(c),medC2/len(c),medC3/len(c))\n",
    "    \n",
    "    return medC"
   ]
  },
  {
   "cell_type": "code",
   "execution_count": 3,
   "metadata": {},
   "outputs": [
    {
     "data": {
      "image/png": "[encoded data removed]",
      "text/plain": [
       "<Figure size 432x288 with 1 Axes>"
      ]
     },
     "metadata": {
      "needs_background": "light"
     },
     "output_type": "display_data"
    }
   ],
   "source": [
    "# Generador de degradado\n",
    "tam = 5\n",
    "\n",
    "b1 = np.zeros([tam,tam,1],dtype=np.uint8)\n",
    "b2 = np.zeros([tam,tam,1],dtype=np.uint8)\n",
    "b3 = np.zeros([tam,tam,1],dtype=np.uint8)\n",
    "\n",
    "for i in range(b1.shape[0]):\n",
    "    for j in range(b1.shape[0]):\n",
    "        b1[i,j] = j*20+i*30\n",
    "        b2[i,j] = j*12+i*40\n",
    "        b3[i,j] = j*15+i*10\n",
    "    \n",
    "img = cv.merge((b1,b2,b3))\n",
    "plt.figure(1)\n",
    "plt.imshow(img)\n",
    "plt.show()"
   ]
  },
  {
   "cell_type": "code",
   "execution_count": 4,
   "metadata": {},
   "outputs": [
    {
     "name": "stdout",
     "output_type": "stream",
     "text": [
      "Iteraciones hasta que los centroides se estabilizan: 5 \n",
      "\n",
      " [[0 3 3 1 1]\n",
      " [3 1 1 2 2]\n",
      " [1 2 2 2 4]\n",
      " [2 2 4 4 4]\n",
      " [4 4 4 4 4]]\n"
     ]
    }
   ],
   "source": [
    "res,n = isodata(img,4)\n",
    "print(\"Iteraciones hasta que los centroides se estabilizan:\",n,\"\\n\\n\",res)"
   ]
  },
  {
   "cell_type": "code",
   "execution_count": 5,
   "metadata": {},
   "outputs": [],
   "source": [
    "# Colorea con un seudocolor el resultado de la clasificación.\n",
    "# Función seudo\n",
    "def seudo(img):\n",
    "    \n",
    "    resimg = np.zeros((img.shape[0],img.shape[1],3),np.uint8)\n",
    "    \n",
    "    for i in range(img.shape[0]):\n",
    "        for j in range(img.shape[1]):\n",
    "            if img[i,j] == 0:\n",
    "                resimg[i,j,:] = [255,0,0]\n",
    "            elif img[i,j] == 1:\n",
    "                resimg[i,j,:] = [0,255,0]\n",
    "            elif img[i,j] == 2:\n",
    "                resimg[i,j,:] = [0,0,255]\n",
    "            elif img[i,j] == 3:\n",
    "                resimg[i,j,:] = [255,255,0]\n",
    "            elif img[i,j] == 4:\n",
    "                resimg[i,j,:] = [0,255,255]\n",
    "            elif img[i,j] == 5:\n",
    "                resimg[i,j,:] = [255,0,255]\n",
    "            else:\n",
    "                resimg[i,j,:] = [0,0,0]\n",
    "                \n",
    "    return resimg"
   ]
  },
  {
   "cell_type": "code",
   "execution_count": 6,
   "metadata": {},
   "outputs": [
    {
     "data": {
      "image/png": "[encoded data removed]",
      "text/plain": [
       "<Figure size 432x288 with 1 Axes>"
      ]
     },
     "metadata": {
      "needs_background": "light"
     },
     "output_type": "display_data"
    }
   ],
   "source": [
    "res_seudo = seudo(res)\n",
    "plt.figure(2)\n",
    "plt.imshow(res_seudo)\n",
    "plt.show()"
   ]
  },
  {
   "cell_type": "code",
   "execution_count": 8,
   "metadata": {},
   "outputs": [
    {
     "data": {
      "text/plain": [
       "array([[[  0,   0,   0],\n",
       "        [ 20,  12,  15],\n",
       "        [ 40,  24,  30],\n",
       "        [ 60,  36,  45],\n",
       "        [ 80,  48,  60]],\n",
       "\n",
       "       [[ 30,  40,  10],\n",
       "        [ 50,  52,  25],\n",
       "        [ 70,  64,  40],\n",
       "        [ 90,  76,  55],\n",
       "        [110,  88,  70]],\n",
       "\n",
       "       [[ 60,  80,  20],\n",
       "        [ 80,  92,  35],\n",
       "        [100, 104,  50],\n",
       "        [120, 116,  65],\n",
       "        [140, 128,  80]],\n",
       "\n",
       "       [[ 90, 120,  30],\n",
       "        [110, 132,  45],\n",
       "        [130, 144,  60],\n",
       "        [150, 156,  75],\n",
       "        [170, 168,  90]],\n",
       "\n",
       "       [[120, 160,  40],\n",
       "        [140, 172,  55],\n",
       "        [160, 184,  70],\n",
       "        [180, 196,  85],\n",
       "        [200, 208, 100]]], dtype=uint8)"
      ]
     },
     "execution_count": 8,
     "metadata": {},
     "output_type": "execute_result"
    }
   ],
   "source": [
    "img"
   ]
  },
  {
   "cell_type": "code",
   "execution_count": 9,
   "metadata": {},
   "outputs": [
    {
     "data": {
      "text/plain": [
       "array([[ 0,  0,  0],\n",
       "       [20, 12, 15],\n",
       "       [40, 24, 30],\n",
       "       [60, 36, 45],\n",
       "       [80, 48, 60]], dtype=uint8)"
      ]
     },
     "execution_count": 9,
     "metadata": {},
     "output_type": "execute_result"
    }
   ],
   "source": [
    "img[0]"
   ]
  },
  {
   "cell_type": "code",
   "execution_count": 10,
   "metadata": {},
   "outputs": [
    {
     "data": {
      "text/plain": [
       "array([0, 0, 0], dtype=uint8)"
      ]
     },
     "execution_count": 10,
     "metadata": {},
     "output_type": "execute_result"
    }
   ],
   "source": [
    "img[0,0]"
   ]
  },
  {
   "cell_type": "code",
   "execution_count": 11,
   "metadata": {},
   "outputs": [
    {
     "data": {
      "text/plain": [
       "array([0, 0, 0], dtype=uint8)"
      ]
     },
     "execution_count": 11,
     "metadata": {},
     "output_type": "execute_result"
    }
   ],
   "source": [
    "img[0][0]"
   ]
  },
  {
   "cell_type": "code",
   "execution_count": 12,
   "metadata": {},
   "outputs": [
    {
     "data": {
      "text/plain": [
       "0"
      ]
     },
     "execution_count": 12,
     "metadata": {},
     "output_type": "execute_result"
    }
   ],
   "source": [
    "img[0,0,0]"
   ]
  },
  {
   "cell_type": "code",
   "execution_count": 13,
   "metadata": {},
   "outputs": [
    {
     "data": {
      "text/plain": [
       "0"
      ]
     },
     "execution_count": 13,
     "metadata": {},
     "output_type": "execute_result"
    }
   ],
   "source": [
    "img[0,0][0]"
   ]
  },
  {
   "cell_type": "code",
   "execution_count": 14,
   "metadata": {},
   "outputs": [
    {
     "data": {
      "text/plain": [
       "0"
      ]
     },
     "execution_count": 14,
     "metadata": {},
     "output_type": "execute_result"
    }
   ],
   "source": [
    "img[0][0][0]"
   ]
  },
  {
   "cell_type": "code",
   "execution_count": 15,
   "metadata": {},
   "outputs": [
    {
     "data": {
      "text/plain": [
       "0"
      ]
     },
     "execution_count": 15,
     "metadata": {},
     "output_type": "execute_result"
    }
   ],
   "source": [
    "img[0][0,0]"
   ]
  },
  {
   "cell_type": "code",
   "execution_count": null,
   "metadata": {},
   "outputs": [],
   "source": []
  }
 ],
 "metadata": {
  "kernelspec": {
   "display_name": "Python 3",
   "language": "python",
   "name": "python3"
  },
  "language_info": {
   "codemirror_mode": {
    "name": "ipython",
    "version": 3
   },
   "file_extension": ".py",
   "mimetype": "text/x-python",
   "name": "python",
   "nbconvert_exporter": "python",
   "pygments_lexer": "ipython3",
   "version": "3.8.3"
  }
 },
 "nbformat": 4,
 "nbformat_minor": 4
}
