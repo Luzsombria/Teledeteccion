{
 "cells": [
  {
   "cell_type": "markdown",
   "metadata": {},
   "source": [
    "# Ejercicio 1\n",
    "\n",
    "En este ejercicio definiremos una función que sea capaz de aplicar un filtrado lineal a una imagen monobanda con diferentes matrices de filtrado de 3x3."
   ]
  },
  {
   "cell_type": "code",
   "execution_count": 1,
   "metadata": {},
   "outputs": [],
   "source": [
    "import cv2 as cv\n",
    "import numpy as np\n",
    "import matplotlib.pyplot as plt\n",
    "\n",
    "imagen = cv.imread('imgpack/Monobanda/2_Corsica.jpg',cv.IMREAD_GRAYSCALE)"
   ]
  },
  {
   "cell_type": "markdown",
   "metadata": {},
   "source": [
    "Para ellos usaremos una función que sea capaz de aplicar el filtro a cada pixel acudiendo a los valores de los 8 pixeles vecinos, y sustituyendo el valor del pixel consultado por la influencia que producen los vecinos."
   ]
  },
  {
   "cell_type": "code",
   "execution_count": 2,
   "metadata": {},
   "outputs": [],
   "source": [
    "# En esta función auxiliar realizaremos la parte aritmética del cálculo del nuevo valor del pixel.\n",
    "def aux(img,a,b,cf,fc,cc,offsetF,offsetC):\n",
    "    \n",
    "    p=0\n",
    "    \n",
    "    # Este bucle realizara la busqueda de los valores de los pixeles vecinos al pixel consultado\n",
    "    # para posteriormente realizar el cálculo requerido para la modificación de su valor.\n",
    "    for i in range(-offsetF,offsetF+1):\n",
    "        for j in range(-offsetC,offsetC+1):\n",
    "            p += img[a+i][b+j]*cf[fc+i][cc+j]\n",
    "            \n",
    "    return p"
   ]
  },
  {
   "cell_type": "code",
   "execution_count": 3,
   "metadata": {},
   "outputs": [],
   "source": [
    "def filtro(img, cf):\n",
    "    \n",
    "    # Para empezar realizaremos una copia de la imagen para no modificar la imagen original.\n",
    "    resimg = img.copy()\n",
    "    \n",
    "    # Teniendo en cuenta que estaremos usando matrices de 3x3 no necesitariamos acudir a funciones\n",
    "    # especificas para calcular cuantas filas y columnas se dejaran a 0, sin embargo supondremos que\n",
    "    # a nuestro codigo le podremos meter cualquier matriz cuadrática.\n",
    "    ceros = int(len(cf)/2)\n",
    "    \n",
    "    # Este bucle es el encargado de valorar a 0 los pixeles de las filas y columnas borde.\n",
    "    for i in range(len(resimg)):\n",
    "        if(i<ceros):\n",
    "            resimg[i] = 0\n",
    "            resimg[-(i+1)] = 0\n",
    "        for j in range(ceros):\n",
    "            resimg[i][j] = 0\n",
    "            resimg[i][-(j+1)] = 0\n",
    "    \n",
    "    # Al igual que se ha comentado anteriormente, supondremos que fc y cc se calcularan de forma\n",
    "    # correspondiente a la matriz entrante y no simplemente aplicando el conocimiento previo de\n",
    "    # que la matriz es 3x3 y se cumpliria fc = cc = 1.\n",
    "    fc = int(len(cf)/2)\n",
    "    cc = int(len(cf[0])/2)\n",
    "    \n",
    "    # Realizamos el mismo procedimiento anterior para asignar los valores de offsetF y offsetC.\n",
    "    offsetF = int(len(cf)/2)\n",
    "    offsetC = int(len(cf[0])/2)\n",
    "    \n",
    "    # A continuación realizaremos el bucle para modificar el valor de los pixeles finales.\n",
    "    for i in range(len(resimg)):\n",
    "        for j in range(len(resimg[i])):\n",
    "            # Con esta secuencia de condicionales nos aseguraremos de no acudir a ningún pixel\n",
    "            # con valor 0.\n",
    "            if(not(i==0 or j == 0 or i == len(resimg)-1 or j == len(resimg[i])-1)):\n",
    "                # Para no empeorar la vision del código la función aux sera definida más arriba.\n",
    "                resimg[i][j] = np.round(aux(img,i,j,cf,fc,cc,offsetF,offsetC)/np.sum(cf))\n",
    "    \n",
    "    return resimg"
   ]
  },
  {
   "cell_type": "code",
   "execution_count": 4,
   "metadata": {
    "scrolled": true
   },
   "outputs": [
    {
     "name": "stdout",
     "output_type": "stream",
     "text": [
      "[[1 1 1]\n",
      " [1 2 1]\n",
      " [1 1 1]]\n"
     ]
    }
   ],
   "source": [
    "cf = np.array([[1,1,1],[1,2,1],[1,1,1]])\n",
    "print(cf)"
   ]
  },
  {
   "cell_type": "code",
   "execution_count": 5,
   "metadata": {
    "scrolled": true
   },
   "outputs": [
    {
     "name": "stdout",
     "output_type": "stream",
     "text": [
      "[[12 14 17 24 32 30]\n",
      " [19 18 17 26 36 40]\n",
      " [26 21 17 28 40 42]\n",
      " [20 19 18 26 33 35]\n",
      " [14 17 20 23 27 20]\n",
      " [35 14 22 13 40 21]]\n"
     ]
    }
   ],
   "source": [
    "ejemplo = np.array([[12,14,17,24,32,30],\n",
    "                    [19,18,17,26,36,40],\n",
    "                    [26,21,17,28,40,42],\n",
    "                    [20,19,18,26,33,35],\n",
    "                    [14,17,20,23,27,20],\n",
    "                    [35,14,22,13,40,21]])\n",
    "print(ejemplo)"
   ]
  },
  {
   "cell_type": "code",
   "execution_count": 6,
   "metadata": {},
   "outputs": [
    {
     "name": "stdout",
     "output_type": "stream",
     "text": [
      "[[ 0  0  0  0  0  0]\n",
      " [ 0 18 20 26 33  0]\n",
      " [ 0 20 21 27 35  0]\n",
      " [ 0 19 21 26 31  0]\n",
      " [ 0 20 19 24 26  0]\n",
      " [ 0  0  0  0  0  0]]\n"
     ]
    }
   ],
   "source": [
    "print(filtro(ejemplo,cf))"
   ]
  }
 ],
 "metadata": {
  "kernelspec": {
   "display_name": "Python 3",
   "language": "python",
   "name": "python3"
  },
  "language_info": {
   "codemirror_mode": {
    "name": "ipython",
    "version": 3
   },
   "file_extension": ".py",
   "mimetype": "text/x-python",
   "name": "python",
   "nbconvert_exporter": "python",
   "pygments_lexer": "ipython3",
   "version": "3.8.3"
  }
 },
 "nbformat": 4,
 "nbformat_minor": 4
}
