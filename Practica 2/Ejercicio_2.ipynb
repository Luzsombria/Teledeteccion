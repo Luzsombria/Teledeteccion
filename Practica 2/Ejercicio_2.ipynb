{
 "cells": [
  {
   "cell_type": "code",
   "execution_count": 7,
   "metadata": {},
   "outputs": [],
   "source": [
    "import cv2 as cv\n",
    "import numpy as np\n",
    "import matplotlib.pyplot as plt\n",
    "import ipynb.fs.defs.Ejercicio_1 as ej1 #Contiene la funcion histograma\n",
    "\n",
    "imagen = cv.imread('imgpack/Monobanda/2_Corsica.jpg',cv.IMREAD_GRAYSCALE)"
   ]
  },
  {
   "cell_type": "code",
   "execution_count": 8,
   "metadata": {
    "scrolled": true
   },
   "outputs": [
    {
     "data": {
      "image/png": "[encoded data removed]",
      "text/plain": [
       "<Figure size 432x288 with 1 Axes>"
      ]
     },
     "metadata": {
      "needs_background": "light"
     },
     "output_type": "display_data"
    }
   ],
   "source": [
    "#Histograma inicial\n",
    "plt.hist(imagen.ravel(),256,[0,256]);plt.show()"
   ]
  },
  {
   "cell_type": "code",
   "execution_count": 9,
   "metadata": {},
   "outputs": [],
   "source": [
    "def expan(img, cmin, cmax):\n",
    "    resimg = img.copy()\n",
    "    for a in range(int(np.sqrt(resimg.size))):\n",
    "        for b in range(int(np.sqrt(resimg.size))):\n",
    "            if resimg[a][b] <= cmin:\n",
    "                resimg[a][b] = 0\n",
    "            elif resimg[a][b] >= cmax:\n",
    "                resimg[a][b] = 255\n",
    "            else:\n",
    "                resimg[a][b] = 0 + ((resimg[a][b] - cmin)/(cmax - cmin)) * (255 - 0)\n",
    "    return resimg"
   ]
  },
  {
   "cell_type": "code",
   "execution_count": 10,
   "metadata": {},
   "outputs": [
    {
     "data": {
      "image/png": "[encoded data removed]",
      "text/plain": [
       "<Figure size 432x288 with 1 Axes>"
      ]
     },
     "metadata": {
      "needs_background": "light"
     },
     "output_type": "display_data"
    }
   ],
   "source": [
    "plt.hist(expan(imagen,10,100).ravel(),255,[0,254],width=1);plt.show()"
   ]
  }
 ],
 "metadata": {
  "kernelspec": {
   "display_name": "Python 3",
   "language": "python",
   "name": "python3"
  },
  "language_info": {
   "codemirror_mode": {
    "name": "ipython",
    "version": 3
   },
   "file_extension": ".py",
   "mimetype": "text/x-python",
   "name": "python",
   "nbconvert_exporter": "python",
   "pygments_lexer": "ipython3",
   "version": "3.8.3"
  }
 },
 "nbformat": 4,
 "nbformat_minor": 4
}
